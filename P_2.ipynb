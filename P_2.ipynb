{
  "nbformat": 4,
  "nbformat_minor": 0,
  "metadata": {
    "colab": {
      "name": "P-2.ipynb",
      "provenance": []
    },
    "kernelspec": {
      "name": "python3",
      "display_name": "Python 3"
    },
    "language_info": {
      "name": "python"
    }
  },
  "cells": [
    {
      "cell_type": "markdown",
      "source": [
        "Problem Statement 2: Write a NumPy program to check if each element of an array of your\n",
        "choice is composed of digits, lower case letters, and upper case letters only"
      ],
      "metadata": {
        "id": "7Q9SDdmca2vo"
      }
    },
    {
      "cell_type": "code",
      "execution_count": 24,
      "metadata": {
        "colab": {
          "base_uri": "https://localhost:8080/"
        },
        "id": "AgqD_wHRVl_B",
        "outputId": "7ae77e05-686a-44b2-fa2c-2feee77e4ab2"
      },
      "outputs": [
        {
          "output_type": "stream",
          "name": "stdout",
          "text": [
            "HI hello 1234 Bye gre8t\n",
            "Original Array:\n",
            "['HI', 'hello', '1234', 'Bye', 'gre8t']\n",
            "Digits Only:\n",
            "[False, False, True, False, False]\n",
            "Lower Case:\n",
            "[False, True, False, False, True]\n",
            "Upper Case:\n",
            "[True, False, False, False, False]\n"
          ]
        }
      ],
      "source": [
        "import numpy as np\n",
        "Matrix1=[]\n",
        "low=[]\n",
        "up =[]\n",
        "digits= []\n",
        "i=0\n",
        "k=0\n",
        "Matrix1 = [ i for i in input().split()]\n",
        "i=0\n",
        "for i in range (len(Matrix1)):\n",
        "    l= Matrix1[i].islower()\n",
        "    low.append(l)\n",
        "    u=Matrix1[i].isupper()\n",
        "    up.append(u)\n",
        "    d=Matrix1[i].isdigit()\n",
        "    digits.append(d)\n",
        "\n",
        "print(\"Original Array:\")\n",
        "print(Matrix1)\n",
        "print(\"Digits Only:\")\n",
        "print(digits)\n",
        "print(\"Lower Case:\")\n",
        "print(low)\n",
        "print(\"Upper Case:\")\n",
        "print(up)\n",
        "\n",
        "\n"
      ]
    }
  ]
}